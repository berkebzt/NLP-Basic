{
  "nbformat": 4,
  "nbformat_minor": 0,
  "metadata": {
    "colab": {
      "provenance": []
    },
    "kernelspec": {
      "name": "python3",
      "display_name": "Python 3"
    },
    "language_info": {
      "name": "python"
    }
  },
  "cells": [
    {
      "cell_type": "code",
      "execution_count": 1,
      "metadata": {
        "colab": {
          "base_uri": "https://localhost:8080/"
        },
        "id": "9KU38FuAQw6p",
        "outputId": "e3d5a8de-b243-4120-cfe6-9a43ed89a538"
      },
      "outputs": [
        {
          "output_type": "stream",
          "name": "stdout",
          "text": [
            "--2022-12-15 10:11:05--  https://lazyprogrammer.me/course_files/nlp/bbc_text_cls.csv\n",
            "Resolving lazyprogrammer.me (lazyprogrammer.me)... 104.21.23.210, 172.67.213.166, 2606:4700:3030::ac43:d5a6, ...\n",
            "Connecting to lazyprogrammer.me (lazyprogrammer.me)|104.21.23.210|:443... connected.\n",
            "HTTP request sent, awaiting response... 200 OK\n",
            "Length: 5085081 (4.8M) [text/csv]\n",
            "Saving to: ‘bbc_text_cls.csv’\n",
            "\n",
            "bbc_text_cls.csv    100%[===================>]   4.85M  --.-KB/s    in 0.09s   \n",
            "\n",
            "2022-12-15 10:11:05 (56.5 MB/s) - ‘bbc_text_cls.csv’ saved [5085081/5085081]\n",
            "\n"
          ]
        }
      ],
      "source": [
        "!wget -nc https://lazyprogrammer.me/course_files/nlp/bbc_text_cls.csv"
      ]
    },
    {
      "cell_type": "code",
      "source": [
        "import numpy as np\n",
        "import pandas as pd\n",
        "import tensorflow as tf\n",
        "import matplotlib.pyplot as plt\n",
        "from sklearn.model_selection import  train_test_split\n",
        "\n",
        "from tensorflow.keras.preprocessing.text import Tokenizer\n",
        "from tensorflow.keras.preprocessing.sequence import pad_sequences\n",
        "from tensorflow.keras.layers import Dense, Input, GlobalMaxPool1D\n",
        "from tensorflow.keras.layers import Conv1D, MaxPooling1D, Embedding\n",
        "from tensorflow.keras.models import Model\n",
        "from tensorflow.keras.losses import SparseCategoricalCrossentropy"
      ],
      "metadata": {
        "id": "SEhx1vpORAFz"
      },
      "execution_count": 2,
      "outputs": []
    },
    {
      "cell_type": "code",
      "source": [
        "df = pd.read_csv('bbc_text_cls.csv')"
      ],
      "metadata": {
        "id": "zfwcjIGiSH2R"
      },
      "execution_count": 3,
      "outputs": []
    },
    {
      "cell_type": "code",
      "source": [
        "df.head()"
      ],
      "metadata": {
        "colab": {
          "base_uri": "https://localhost:8080/",
          "height": 206
        },
        "id": "6ZOfA_RGSNek",
        "outputId": "df59a349-1356-4c04-dee1-da885ce5645d"
      },
      "execution_count": 4,
      "outputs": [
        {
          "output_type": "execute_result",
          "data": {
            "text/plain": [
              "                                                text    labels\n",
              "0  Ad sales boost Time Warner profit\\n\\nQuarterly...  business\n",
              "1  Dollar gains on Greenspan speech\\n\\nThe dollar...  business\n",
              "2  Yukos unit buyer faces loan claim\\n\\nThe owner...  business\n",
              "3  High fuel prices hit BA's profits\\n\\nBritish A...  business\n",
              "4  Pernod takeover talk lifts Domecq\\n\\nShares in...  business"
            ],
            "text/html": [
              "\n",
              "  <div id=\"df-04fa2cc6-1b51-43b7-b2b8-40639f71066d\">\n",
              "    <div class=\"colab-df-container\">\n",
              "      <div>\n",
              "<style scoped>\n",
              "    .dataframe tbody tr th:only-of-type {\n",
              "        vertical-align: middle;\n",
              "    }\n",
              "\n",
              "    .dataframe tbody tr th {\n",
              "        vertical-align: top;\n",
              "    }\n",
              "\n",
              "    .dataframe thead th {\n",
              "        text-align: right;\n",
              "    }\n",
              "</style>\n",
              "<table border=\"1\" class=\"dataframe\">\n",
              "  <thead>\n",
              "    <tr style=\"text-align: right;\">\n",
              "      <th></th>\n",
              "      <th>text</th>\n",
              "      <th>labels</th>\n",
              "    </tr>\n",
              "  </thead>\n",
              "  <tbody>\n",
              "    <tr>\n",
              "      <th>0</th>\n",
              "      <td>Ad sales boost Time Warner profit\\n\\nQuarterly...</td>\n",
              "      <td>business</td>\n",
              "    </tr>\n",
              "    <tr>\n",
              "      <th>1</th>\n",
              "      <td>Dollar gains on Greenspan speech\\n\\nThe dollar...</td>\n",
              "      <td>business</td>\n",
              "    </tr>\n",
              "    <tr>\n",
              "      <th>2</th>\n",
              "      <td>Yukos unit buyer faces loan claim\\n\\nThe owner...</td>\n",
              "      <td>business</td>\n",
              "    </tr>\n",
              "    <tr>\n",
              "      <th>3</th>\n",
              "      <td>High fuel prices hit BA's profits\\n\\nBritish A...</td>\n",
              "      <td>business</td>\n",
              "    </tr>\n",
              "    <tr>\n",
              "      <th>4</th>\n",
              "      <td>Pernod takeover talk lifts Domecq\\n\\nShares in...</td>\n",
              "      <td>business</td>\n",
              "    </tr>\n",
              "  </tbody>\n",
              "</table>\n",
              "</div>\n",
              "      <button class=\"colab-df-convert\" onclick=\"convertToInteractive('df-04fa2cc6-1b51-43b7-b2b8-40639f71066d')\"\n",
              "              title=\"Convert this dataframe to an interactive table.\"\n",
              "              style=\"display:none;\">\n",
              "        \n",
              "  <svg xmlns=\"http://www.w3.org/2000/svg\" height=\"24px\"viewBox=\"0 0 24 24\"\n",
              "       width=\"24px\">\n",
              "    <path d=\"M0 0h24v24H0V0z\" fill=\"none\"/>\n",
              "    <path d=\"M18.56 5.44l.94 2.06.94-2.06 2.06-.94-2.06-.94-.94-2.06-.94 2.06-2.06.94zm-11 1L8.5 8.5l.94-2.06 2.06-.94-2.06-.94L8.5 2.5l-.94 2.06-2.06.94zm10 10l.94 2.06.94-2.06 2.06-.94-2.06-.94-.94-2.06-.94 2.06-2.06.94z\"/><path d=\"M17.41 7.96l-1.37-1.37c-.4-.4-.92-.59-1.43-.59-.52 0-1.04.2-1.43.59L10.3 9.45l-7.72 7.72c-.78.78-.78 2.05 0 2.83L4 21.41c.39.39.9.59 1.41.59.51 0 1.02-.2 1.41-.59l7.78-7.78 2.81-2.81c.8-.78.8-2.07 0-2.86zM5.41 20L4 18.59l7.72-7.72 1.47 1.35L5.41 20z\"/>\n",
              "  </svg>\n",
              "      </button>\n",
              "      \n",
              "  <style>\n",
              "    .colab-df-container {\n",
              "      display:flex;\n",
              "      flex-wrap:wrap;\n",
              "      gap: 12px;\n",
              "    }\n",
              "\n",
              "    .colab-df-convert {\n",
              "      background-color: #E8F0FE;\n",
              "      border: none;\n",
              "      border-radius: 50%;\n",
              "      cursor: pointer;\n",
              "      display: none;\n",
              "      fill: #1967D2;\n",
              "      height: 32px;\n",
              "      padding: 0 0 0 0;\n",
              "      width: 32px;\n",
              "    }\n",
              "\n",
              "    .colab-df-convert:hover {\n",
              "      background-color: #E2EBFA;\n",
              "      box-shadow: 0px 1px 2px rgba(60, 64, 67, 0.3), 0px 1px 3px 1px rgba(60, 64, 67, 0.15);\n",
              "      fill: #174EA6;\n",
              "    }\n",
              "\n",
              "    [theme=dark] .colab-df-convert {\n",
              "      background-color: #3B4455;\n",
              "      fill: #D2E3FC;\n",
              "    }\n",
              "\n",
              "    [theme=dark] .colab-df-convert:hover {\n",
              "      background-color: #434B5C;\n",
              "      box-shadow: 0px 1px 3px 1px rgba(0, 0, 0, 0.15);\n",
              "      filter: drop-shadow(0px 1px 2px rgba(0, 0, 0, 0.3));\n",
              "      fill: #FFFFFF;\n",
              "    }\n",
              "  </style>\n",
              "\n",
              "      <script>\n",
              "        const buttonEl =\n",
              "          document.querySelector('#df-04fa2cc6-1b51-43b7-b2b8-40639f71066d button.colab-df-convert');\n",
              "        buttonEl.style.display =\n",
              "          google.colab.kernel.accessAllowed ? 'block' : 'none';\n",
              "\n",
              "        async function convertToInteractive(key) {\n",
              "          const element = document.querySelector('#df-04fa2cc6-1b51-43b7-b2b8-40639f71066d');\n",
              "          const dataTable =\n",
              "            await google.colab.kernel.invokeFunction('convertToInteractive',\n",
              "                                                     [key], {});\n",
              "          if (!dataTable) return;\n",
              "\n",
              "          const docLinkHtml = 'Like what you see? Visit the ' +\n",
              "            '<a target=\"_blank\" href=https://colab.research.google.com/notebooks/data_table.ipynb>data table notebook</a>'\n",
              "            + ' to learn more about interactive tables.';\n",
              "          element.innerHTML = '';\n",
              "          dataTable['output_type'] = 'display_data';\n",
              "          await google.colab.output.renderOutput(dataTable, element);\n",
              "          const docLink = document.createElement('div');\n",
              "          docLink.innerHTML = docLinkHtml;\n",
              "          element.appendChild(docLink);\n",
              "        }\n",
              "      </script>\n",
              "    </div>\n",
              "  </div>\n",
              "  "
            ]
          },
          "metadata": {},
          "execution_count": 4
        }
      ]
    },
    {
      "cell_type": "code",
      "source": [
        "df['targets'] = df['labels'].astype(\"category\").cat.codes"
      ],
      "metadata": {
        "id": "nek7vbDjSOlY"
      },
      "execution_count": 6,
      "outputs": []
    },
    {
      "cell_type": "code",
      "source": [
        "#number of classes\n",
        "K = df['targets'].max() + 1\n",
        "K"
      ],
      "metadata": {
        "colab": {
          "base_uri": "https://localhost:8080/"
        },
        "id": "QV3eOQjrSeQ-",
        "outputId": "e8126fa1-bef7-483e-fd39-07fd990ba7e1"
      },
      "execution_count": 7,
      "outputs": [
        {
          "output_type": "execute_result",
          "data": {
            "text/plain": [
              "5"
            ]
          },
          "metadata": {},
          "execution_count": 7
        }
      ]
    },
    {
      "cell_type": "code",
      "source": [
        "df_train, df_test = train_test_split(df, test_size = 0.3)"
      ],
      "metadata": {
        "id": "bX_aagdsSpd0"
      },
      "execution_count": 8,
      "outputs": []
    },
    {
      "cell_type": "code",
      "source": [
        "#Convert sentences to sequences\n",
        "\n",
        "MAX_VOCAB_SIZE = 2000\n",
        "tokenizer = Tokenizer(num_words=MAX_VOCAB_SIZE)\n",
        "tokenizer.fit_on_texts(df_train['text'])\n",
        "sequences_train = tokenizer.texts_to_sequences(df_train['text'])\n",
        "sequences_test = tokenizer.texts_to_sequences(df_test['text'])"
      ],
      "metadata": {
        "id": "wygkawX1SwkX"
      },
      "execution_count": 10,
      "outputs": []
    },
    {
      "cell_type": "code",
      "source": [
        "#get word -> integer mapping\n",
        "word2idx = tokenizer.word_index\n",
        "V = len(word2idx)\n",
        "print('Found %s unique tokens.' % V)"
      ],
      "metadata": {
        "colab": {
          "base_uri": "https://localhost:8080/"
        },
        "id": "C91mA_7KTZfV",
        "outputId": "a2e90366-421d-45c0-e5fd-73a87d74126d"
      },
      "execution_count": 11,
      "outputs": [
        {
          "output_type": "stream",
          "name": "stdout",
          "text": [
            "Found 27708 unique tokens.\n"
          ]
        }
      ]
    },
    {
      "cell_type": "code",
      "source": [
        "#pad sequences  so that we get  a N x T matrix\n",
        "data_train = pad_sequences(sequences_train)\n",
        "print('Shape of the data train tensor:', data_train.shape)\n",
        "\n",
        "#get sequences length\n",
        "T = data_train.shape[1]"
      ],
      "metadata": {
        "colab": {
          "base_uri": "https://localhost:8080/"
        },
        "id": "VT4uQSXDTxpb",
        "outputId": "600e803f-5f21-4d0c-ceb2-ca0ad29990e3"
      },
      "execution_count": 12,
      "outputs": [
        {
          "output_type": "stream",
          "name": "stdout",
          "text": [
            "Shape of the data train tensor: (1557, 3493)\n"
          ]
        }
      ]
    },
    {
      "cell_type": "code",
      "source": [
        "data_test = pad_sequences(sequences_test, maxlen=T)\n",
        "print('Shape of data test tensor:', data_test.shape)"
      ],
      "metadata": {
        "colab": {
          "base_uri": "https://localhost:8080/"
        },
        "id": "d7gnk2gmUNTc",
        "outputId": "a5632c06-e7b7-4c49-ace3-4dd2a31e17c7"
      },
      "execution_count": 13,
      "outputs": [
        {
          "output_type": "stream",
          "name": "stdout",
          "text": [
            "Shape of data test tensor: (668, 3493)\n"
          ]
        }
      ]
    },
    {
      "cell_type": "code",
      "source": [
        "from os import XATTR_SIZE_MAX\n",
        "D = 50\n",
        "i = Input(shape=(T,))\n",
        "X = Embedding(V + 1, D)(i)\n",
        "X = Conv1D(32, 3, activation='relu')(X)\n",
        "\n",
        "X = GlobalMaxPool1D()(X)\n",
        "X = Dense(K)(X)\n",
        "\n",
        "model =  Model(i,X)"
      ],
      "metadata": {
        "id": "jVEgbsNiUcTj"
      },
      "execution_count": 16,
      "outputs": []
    },
    {
      "cell_type": "code",
      "source": [
        "model.compile(\n",
        "    loss=SparseCategoricalCrossentropy(from_logits = True),\n",
        "    optimizer = 'adam',\n",
        "    metrics=['accuracy']\n",
        ")\n",
        "\n",
        "print('Training model ...')\n",
        "r = model.fit(\n",
        "    data_train,\n",
        "    df_train['targets'],\n",
        "    epochs = 50,\n",
        "    validation_data=(data_test, df_test['targets'])\n",
        ")"
      ],
      "metadata": {
        "colab": {
          "base_uri": "https://localhost:8080/"
        },
        "id": "bkMQopOsVLV9",
        "outputId": "80644165-18b8-452e-cd92-c80a450b7214"
      },
      "execution_count": 17,
      "outputs": [
        {
          "output_type": "stream",
          "name": "stdout",
          "text": [
            "Training model ...\n",
            "Epoch 1/50\n",
            "49/49 [==============================] - 12s 215ms/step - loss: 1.5662 - accuracy: 0.3475 - val_loss: 1.5015 - val_accuracy: 0.5449\n",
            "Epoch 2/50\n",
            "49/49 [==============================] - 10s 214ms/step - loss: 1.3472 - accuracy: 0.7039 - val_loss: 1.2013 - val_accuracy: 0.7904\n",
            "Epoch 3/50\n",
            "49/49 [==============================] - 10s 214ms/step - loss: 0.9002 - accuracy: 0.8870 - val_loss: 0.7091 - val_accuracy: 0.8862\n",
            "Epoch 4/50\n",
            "49/49 [==============================] - 10s 214ms/step - loss: 0.4543 - accuracy: 0.9364 - val_loss: 0.4183 - val_accuracy: 0.9207\n",
            "Epoch 5/50\n",
            "49/49 [==============================] - 10s 214ms/step - loss: 0.2482 - accuracy: 0.9595 - val_loss: 0.3072 - val_accuracy: 0.9281\n",
            "Epoch 6/50\n",
            "49/49 [==============================] - 12s 243ms/step - loss: 0.1611 - accuracy: 0.9762 - val_loss: 0.2560 - val_accuracy: 0.9341\n",
            "Epoch 7/50\n",
            "49/49 [==============================] - 10s 211ms/step - loss: 0.1132 - accuracy: 0.9820 - val_loss: 0.2267 - val_accuracy: 0.9386\n",
            "Epoch 8/50\n",
            "49/49 [==============================] - 10s 212ms/step - loss: 0.0816 - accuracy: 0.9878 - val_loss: 0.2070 - val_accuracy: 0.9446\n",
            "Epoch 9/50\n",
            "49/49 [==============================] - 11s 215ms/step - loss: 0.0606 - accuracy: 0.9917 - val_loss: 0.1957 - val_accuracy: 0.9431\n",
            "Epoch 10/50\n",
            "49/49 [==============================] - 11s 233ms/step - loss: 0.0456 - accuracy: 0.9955 - val_loss: 0.1848 - val_accuracy: 0.9491\n",
            "Epoch 11/50\n",
            "49/49 [==============================] - 10s 214ms/step - loss: 0.0348 - accuracy: 0.9981 - val_loss: 0.1794 - val_accuracy: 0.9506\n",
            "Epoch 12/50\n",
            "49/49 [==============================] - 10s 214ms/step - loss: 0.0271 - accuracy: 0.9994 - val_loss: 0.1742 - val_accuracy: 0.9506\n",
            "Epoch 13/50\n",
            "49/49 [==============================] - 10s 213ms/step - loss: 0.0213 - accuracy: 0.9994 - val_loss: 0.1703 - val_accuracy: 0.9521\n",
            "Epoch 14/50\n",
            "49/49 [==============================] - 10s 214ms/step - loss: 0.0173 - accuracy: 1.0000 - val_loss: 0.1683 - val_accuracy: 0.9521\n",
            "Epoch 15/50\n",
            "49/49 [==============================] - 10s 213ms/step - loss: 0.0141 - accuracy: 1.0000 - val_loss: 0.1668 - val_accuracy: 0.9521\n",
            "Epoch 16/50\n",
            "49/49 [==============================] - 10s 214ms/step - loss: 0.0118 - accuracy: 1.0000 - val_loss: 0.1652 - val_accuracy: 0.9506\n",
            "Epoch 17/50\n",
            "49/49 [==============================] - 10s 214ms/step - loss: 0.0099 - accuracy: 1.0000 - val_loss: 0.1645 - val_accuracy: 0.9506\n",
            "Epoch 18/50\n",
            "49/49 [==============================] - 10s 215ms/step - loss: 0.0085 - accuracy: 1.0000 - val_loss: 0.1637 - val_accuracy: 0.9506\n",
            "Epoch 19/50\n",
            "49/49 [==============================] - 10s 213ms/step - loss: 0.0073 - accuracy: 1.0000 - val_loss: 0.1635 - val_accuracy: 0.9506\n",
            "Epoch 20/50\n",
            "49/49 [==============================] - 10s 213ms/step - loss: 0.0064 - accuracy: 1.0000 - val_loss: 0.1622 - val_accuracy: 0.9506\n",
            "Epoch 21/50\n",
            "49/49 [==============================] - 10s 213ms/step - loss: 0.0056 - accuracy: 1.0000 - val_loss: 0.1621 - val_accuracy: 0.9506\n",
            "Epoch 22/50\n",
            "49/49 [==============================] - 10s 213ms/step - loss: 0.0050 - accuracy: 1.0000 - val_loss: 0.1618 - val_accuracy: 0.9506\n",
            "Epoch 23/50\n",
            "49/49 [==============================] - 10s 211ms/step - loss: 0.0044 - accuracy: 1.0000 - val_loss: 0.1610 - val_accuracy: 0.9491\n",
            "Epoch 24/50\n",
            "49/49 [==============================] - 10s 212ms/step - loss: 0.0039 - accuracy: 1.0000 - val_loss: 0.1610 - val_accuracy: 0.9491\n",
            "Epoch 25/50\n",
            "49/49 [==============================] - 10s 212ms/step - loss: 0.0036 - accuracy: 1.0000 - val_loss: 0.1609 - val_accuracy: 0.9491\n",
            "Epoch 26/50\n",
            "49/49 [==============================] - 12s 238ms/step - loss: 0.0032 - accuracy: 1.0000 - val_loss: 0.1609 - val_accuracy: 0.9476\n",
            "Epoch 27/50\n",
            "49/49 [==============================] - 10s 212ms/step - loss: 0.0029 - accuracy: 1.0000 - val_loss: 0.1602 - val_accuracy: 0.9476\n",
            "Epoch 28/50\n",
            "49/49 [==============================] - 10s 213ms/step - loss: 0.0027 - accuracy: 1.0000 - val_loss: 0.1605 - val_accuracy: 0.9476\n",
            "Epoch 29/50\n",
            "49/49 [==============================] - 10s 214ms/step - loss: 0.0024 - accuracy: 1.0000 - val_loss: 0.1605 - val_accuracy: 0.9476\n",
            "Epoch 30/50\n",
            "49/49 [==============================] - 10s 213ms/step - loss: 0.0022 - accuracy: 1.0000 - val_loss: 0.1607 - val_accuracy: 0.9476\n",
            "Epoch 31/50\n",
            "49/49 [==============================] - 10s 214ms/step - loss: 0.0021 - accuracy: 1.0000 - val_loss: 0.1612 - val_accuracy: 0.9461\n",
            "Epoch 32/50\n",
            "49/49 [==============================] - 10s 213ms/step - loss: 0.0019 - accuracy: 1.0000 - val_loss: 0.1610 - val_accuracy: 0.9461\n",
            "Epoch 33/50\n",
            "49/49 [==============================] - 10s 213ms/step - loss: 0.0018 - accuracy: 1.0000 - val_loss: 0.1614 - val_accuracy: 0.9461\n",
            "Epoch 34/50\n",
            "49/49 [==============================] - 10s 214ms/step - loss: 0.0016 - accuracy: 1.0000 - val_loss: 0.1614 - val_accuracy: 0.9461\n",
            "Epoch 35/50\n",
            "49/49 [==============================] - 10s 214ms/step - loss: 0.0015 - accuracy: 1.0000 - val_loss: 0.1618 - val_accuracy: 0.9461\n",
            "Epoch 36/50\n",
            "49/49 [==============================] - 10s 213ms/step - loss: 0.0014 - accuracy: 1.0000 - val_loss: 0.1619 - val_accuracy: 0.9476\n",
            "Epoch 37/50\n",
            "49/49 [==============================] - 10s 212ms/step - loss: 0.0013 - accuracy: 1.0000 - val_loss: 0.1622 - val_accuracy: 0.9476\n",
            "Epoch 38/50\n",
            "49/49 [==============================] - 10s 214ms/step - loss: 0.0012 - accuracy: 1.0000 - val_loss: 0.1626 - val_accuracy: 0.9476\n",
            "Epoch 39/50\n",
            "49/49 [==============================] - 10s 213ms/step - loss: 0.0012 - accuracy: 1.0000 - val_loss: 0.1626 - val_accuracy: 0.9476\n",
            "Epoch 40/50\n",
            "49/49 [==============================] - 10s 212ms/step - loss: 0.0011 - accuracy: 1.0000 - val_loss: 0.1632 - val_accuracy: 0.9476\n",
            "Epoch 41/50\n",
            "49/49 [==============================] - 10s 214ms/step - loss: 0.0010 - accuracy: 1.0000 - val_loss: 0.1632 - val_accuracy: 0.9491\n",
            "Epoch 42/50\n",
            "49/49 [==============================] - 10s 210ms/step - loss: 9.5250e-04 - accuracy: 1.0000 - val_loss: 0.1636 - val_accuracy: 0.9491\n",
            "Epoch 43/50\n",
            "49/49 [==============================] - 10s 210ms/step - loss: 8.9783e-04 - accuracy: 1.0000 - val_loss: 0.1638 - val_accuracy: 0.9476\n",
            "Epoch 44/50\n",
            "49/49 [==============================] - 10s 211ms/step - loss: 8.4610e-04 - accuracy: 1.0000 - val_loss: 0.1642 - val_accuracy: 0.9491\n",
            "Epoch 45/50\n",
            "49/49 [==============================] - 12s 239ms/step - loss: 7.9895e-04 - accuracy: 1.0000 - val_loss: 0.1647 - val_accuracy: 0.9491\n",
            "Epoch 46/50\n",
            "49/49 [==============================] - 10s 211ms/step - loss: 7.5578e-04 - accuracy: 1.0000 - val_loss: 0.1649 - val_accuracy: 0.9491\n",
            "Epoch 47/50\n",
            "49/49 [==============================] - 10s 210ms/step - loss: 7.1485e-04 - accuracy: 1.0000 - val_loss: 0.1650 - val_accuracy: 0.9491\n",
            "Epoch 48/50\n",
            "49/49 [==============================] - 11s 234ms/step - loss: 6.7641e-04 - accuracy: 1.0000 - val_loss: 0.1654 - val_accuracy: 0.9491\n",
            "Epoch 49/50\n",
            "49/49 [==============================] - 22s 450ms/step - loss: 6.4108e-04 - accuracy: 1.0000 - val_loss: 0.1658 - val_accuracy: 0.9461\n",
            "Epoch 50/50\n",
            "49/49 [==============================] - 19s 381ms/step - loss: 6.0769e-04 - accuracy: 1.0000 - val_loss: 0.1659 - val_accuracy: 0.9476\n"
          ]
        }
      ]
    },
    {
      "cell_type": "code",
      "source": [
        "#plot loss per  iteration\n",
        "plt.plot(r.history['loss'], label='train loss')\n",
        "plt.plot(r.history['val_loss'], label='val loss')\n",
        "plt.legend();"
      ],
      "metadata": {
        "colab": {
          "base_uri": "https://localhost:8080/",
          "height": 265
        },
        "id": "pAeImsplV-UN",
        "outputId": "84a9d56b-aed2-4a1e-c262-7713922da30b"
      },
      "execution_count": 18,
      "outputs": [
        {
          "output_type": "display_data",
          "data": {
            "text/plain": [
              "<Figure size 432x288 with 1 Axes>"
            ],
            "image/png": "[encoded data removed]"
          },
          "metadata": {
            "needs_background": "light"
          }
        }
      ]
    },
    {
      "cell_type": "code",
      "source": [
        "#plot accuracy per iteration\n",
        "plt.plot(r.history['accuracy'], label='acc')\n",
        "plt.plot(r.history['val_accuracy'], label='val acc')\n",
        "plt.legend();"
      ],
      "metadata": {
        "colab": {
          "base_uri": "https://localhost:8080/",
          "height": 265
        },
        "id": "XCi8YXVyYM5I",
        "outputId": "17d3a4ee-adae-4d57-e240-00e6d59ea29b"
      },
      "execution_count": 19,
      "outputs": [
        {
          "output_type": "display_data",
          "data": {
            "text/plain": [
              "<Figure size 432x288 with 1 Axes>"
            ],
            "image/png": "[encoded data removed]"
          },
          "metadata": {
            "needs_background": "light"
          }
        }
      ]
    },
    {
      "cell_type": "code",
      "source": [],
      "metadata": {
        "id": "2h1jvZYZYdbA"
      },
      "execution_count": null,
      "outputs": []
    }
  ]
}